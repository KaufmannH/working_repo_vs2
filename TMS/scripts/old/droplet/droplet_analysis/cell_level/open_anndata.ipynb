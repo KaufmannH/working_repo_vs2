{
 "cells": [
  {
   "cell_type": "code",
   "execution_count": 3,
   "metadata": {},
   "outputs": [],
   "source": [
    "import scanpy as sc"
   ]
  },
  {
   "cell_type": "code",
   "execution_count": 5,
   "metadata": {},
   "outputs": [],
   "source": [
    "adata = sc.read_h5ad(\"/Users/helene/Documents/Analyses/working_repo/TMS/droplet_analysis/data/lung_female.h5ad\")"
   ]
  },
  {
   "cell_type": "code",
   "execution_count": 7,
   "metadata": {},
   "outputs": [
    {
     "data": {
      "text/html": [
       "<div>\n",
       "<style scoped>\n",
       "    .dataframe tbody tr th:only-of-type {\n",
       "        vertical-align: middle;\n",
       "    }\n",
       "\n",
       "    .dataframe tbody tr th {\n",
       "        vertical-align: top;\n",
       "    }\n",
       "\n",
       "    .dataframe thead th {\n",
       "        text-align: right;\n",
       "    }\n",
       "</style>\n",
       "<table border=\"1\" class=\"dataframe\">\n",
       "  <thead>\n",
       "    <tr style=\"text-align: right;\">\n",
       "      <th></th>\n",
       "      <th>features</th>\n",
       "    </tr>\n",
       "  </thead>\n",
       "  <tbody>\n",
       "    <tr>\n",
       "      <th>Sox17</th>\n",
       "      <td>Sox17</td>\n",
       "    </tr>\n",
       "    <tr>\n",
       "      <th>Rrs1</th>\n",
       "      <td>Rrs1</td>\n",
       "    </tr>\n",
       "    <tr>\n",
       "      <th>Prex2</th>\n",
       "      <td>Prex2</td>\n",
       "    </tr>\n",
       "    <tr>\n",
       "      <th>Sulf1</th>\n",
       "      <td>Sulf1</td>\n",
       "    </tr>\n",
       "    <tr>\n",
       "      <th>Msc</th>\n",
       "      <td>Msc</td>\n",
       "    </tr>\n",
       "    <tr>\n",
       "      <th>...</th>\n",
       "      <td>...</td>\n",
       "    </tr>\n",
       "    <tr>\n",
       "      <th>Figf</th>\n",
       "      <td>Figf</td>\n",
       "    </tr>\n",
       "    <tr>\n",
       "      <th>Gpm6b</th>\n",
       "      <td>Gpm6b</td>\n",
       "    </tr>\n",
       "    <tr>\n",
       "      <th>Egfl6</th>\n",
       "      <td>Egfl6</td>\n",
       "    </tr>\n",
       "    <tr>\n",
       "      <th>Arhgap6</th>\n",
       "      <td>Arhgap6</td>\n",
       "    </tr>\n",
       "    <tr>\n",
       "      <th>G530011O06Rik</th>\n",
       "      <td>G530011O06Rik</td>\n",
       "    </tr>\n",
       "  </tbody>\n",
       "</table>\n",
       "<p>3000 rows × 1 columns</p>\n",
       "</div>"
      ],
      "text/plain": [
       "                    features\n",
       "Sox17                  Sox17\n",
       "Rrs1                    Rrs1\n",
       "Prex2                  Prex2\n",
       "Sulf1                  Sulf1\n",
       "Msc                      Msc\n",
       "...                      ...\n",
       "Figf                    Figf\n",
       "Gpm6b                  Gpm6b\n",
       "Egfl6                  Egfl6\n",
       "Arhgap6              Arhgap6\n",
       "G530011O06Rik  G530011O06Rik\n",
       "\n",
       "[3000 rows x 1 columns]"
      ]
     },
     "execution_count": 7,
     "metadata": {},
     "output_type": "execute_result"
    }
   ],
   "source": [
    "adata.var"
   ]
  }
 ],
 "metadata": {
  "kernelspec": {
   "display_name": "single_cell_py_env",
   "language": "python",
   "name": "python3"
  },
  "language_info": {
   "codemirror_mode": {
    "name": "ipython",
    "version": 3
   },
   "file_extension": ".py",
   "mimetype": "text/x-python",
   "name": "python",
   "nbconvert_exporter": "python",
   "pygments_lexer": "ipython3",
   "version": "3.10.16"
  }
 },
 "nbformat": 4,
 "nbformat_minor": 2
}
